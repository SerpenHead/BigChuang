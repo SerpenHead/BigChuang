{
 "cells": [
  {
   "cell_type": "code",
   "execution_count": 11,
   "id": "b66f3cff",
   "metadata": {},
   "outputs": [
    {
     "name": "stdout",
     "output_type": "stream",
     "text": [
      "diff1: 99\n",
      "diff2: 85\n",
      "diff3: 75\n",
      "diff4: 60\n",
      "diff5: 54\n",
      "diff6: 10\n",
      "diff_all: 105\n",
      "intersect1: 11564\n",
      "intersect2: 11590\n",
      "intersect3: 11597\n",
      "intersect4: 11619\n",
      "intersect5: 11624\n",
      "intersect6: 11665\n",
      "intersect_all: 11557\n"
     ]
    }
   ],
   "source": [
    "import os\n",
    "\n",
    "cam_1 = \"F:\\dachuang_network\\data\\\\raw\\cam1\\day\"\n",
    "cam_2 = \"F:\\dachuang_network\\data\\\\raw\\cam2\\day\"\n",
    "cam_3 = \"F:\\dachuang_network\\data\\\\raw\\cam3\\day\"\n",
    "cam_4 = \"F:\\dachuang_network\\data\\\\raw\\cam4\\day\"\n",
    "\n",
    "\n",
    "set1 = set([x[5:] for x in os.listdir(cam_1)])\n",
    "set2 = set([x[5:] for x in os.listdir(cam_2)])\n",
    "set3 = set([x[5:] for x in os.listdir(cam_3)])\n",
    "set4 = set([x[5:] for x in os.listdir(cam_4)])\n",
    "diff1 = set1.symmetric_difference(set2)\n",
    "diff2 = set1.symmetric_difference(set3)\n",
    "diff3 = set1.symmetric_difference(set4)\n",
    "diff4 = set2.symmetric_difference(set3)\n",
    "diff5 = set2.symmetric_difference(set4)\n",
    "diff6 = set3.symmetric_difference(set4)\n",
    "print(\"diff1:\", len(diff1))\n",
    "print(\"diff2:\", len(diff2))\n",
    "print(\"diff3:\", len(diff3))\n",
    "print(\"diff4:\", len(diff4))\n",
    "print(\"diff5:\", len(diff5))\n",
    "print(\"diff6:\", len(diff6))\n",
    "\n",
    "diff_all = set1.symmetric_difference(set2).symmetric_difference(set3).symmetric_difference(set4)\n",
    "print(\"diff_all:\", len(diff_all))\n",
    "\n",
    "intersect1 = set1.intersection(set2)\n",
    "intersect2 = set1.intersection(set3)            \n",
    "intersect3 = set1.intersection(set4)\n",
    "intersect4 = set2.intersection(set3)\n",
    "intersect5 = set2.intersection(set4)\n",
    "intersect6 = set3.intersection(set4)\n",
    "print(\"intersect1:\", len(intersect1))\n",
    "print(\"intersect2:\", len(intersect2))\n",
    "print(\"intersect3:\", len(intersect3))\n",
    "print(\"intersect4:\", len(intersect4))\n",
    "print(\"intersect5:\", len(intersect5))\n",
    "print(\"intersect6:\", len(intersect6))\n",
    "intersect_all = set1.intersection(set2).intersection(set3).intersection(set4)\n",
    "print(\"intersect_all:\", len(intersect_all))"
   ]
  }
 ],
 "metadata": {
  "kernelspec": {
   "display_name": "base",
   "language": "python",
   "name": "python3"
  },
  "language_info": {
   "codemirror_mode": {
    "name": "ipython",
    "version": 3
   },
   "file_extension": ".py",
   "mimetype": "text/x-python",
   "name": "python",
   "nbconvert_exporter": "python",
   "pygments_lexer": "ipython3",
   "version": "3.9.13"
  }
 },
 "nbformat": 4,
 "nbformat_minor": 5
}
