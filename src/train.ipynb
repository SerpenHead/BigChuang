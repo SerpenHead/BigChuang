{
 "cells": [
  {
   "cell_type": "code",
   "execution_count": null,
   "metadata": {},
   "outputs": [],
   "source": [
    "import torch\n",
    "import torch.nn as nn\n",
    "import torch.optim as optim\n",
    "from torchvision import transforms\n",
    "from torch.utils.data import DataLoader\n",
    "\n",
    "# 已定义的模块\n",
    "from model.CNN_feature_extractor import CNNFeatureExtractor\n",
    "from model.model1 import TemporalLSTM\n",
    "from dataloader1 import ImageSequenceDataset \n"
   ]
  },
  {
   "cell_type": "code",
   "execution_count": null,
   "metadata": {},
   "outputs": [],
   "source": [
    "# 图像预处理\n",
    "import os\n",
    "from model.model1 import OzonePredictor\n",
    "\n",
    "\n",
    "transform = transforms.Compose([\n",
    "    transforms.Resize((224, 224)),\n",
    "    transforms.ToTensor()\n",
    "])\n",
    "\n",
    "# 超参数\n",
    "# 提供根目录\n",
    "root_dir = os.path.dirname(os.path.dirname(os.path.abspath(__file__)))\n",
    "json_path = os.path.join(root_dir, 'data/dataset.json')\n",
    "json_path = os.path.normpath(json_path)\n",
    "\n",
    "batch_size = 4\n",
    "num_epochs = 20\n",
    "lr = 1e-4\n",
    "device = 'cuda' if torch.cuda.is_available() else 'cpu'\n",
    "\n",
    "# 数据加载\n",
    "dataset = ImageSequenceDataset(json_path, transform=transform)\n",
    "dataloader = DataLoader(dataset, batch_size=batch_size, shuffle=True)\n",
    "\n",
    "# 模型构建\n",
    "model = OzonePredictor(cnn_out_dim=128, lstm_hidden_dim=64, output_dim=3)\n",
    "model.to(device)\n",
    "\n",
    "# 优化器与损失函数\n",
    "criterion = torch.nn.MSELoss()\n",
    "optimizer = torch.optim.Adam(model.parameters(), lr=lr)\n",
    "\n",
    "# 训练循环\n",
    "for epoch in range(num_epochs):\n",
    "    model.train()\n",
    "    total_loss = 0.0\n",
    "\n",
    "    for batch in dataloader:\n",
    "        imgs = batch['images'].to(device)   # (B, T, 4, C, H, W)\n",
    "        labels = batch['npy'].to(device)    # (B, T) or (B, output_dim)\n",
    "\n",
    "        optimizer.zero_grad()\n",
    "        outputs = model(imgs)               # (B, output_dim)\n",
    "        loss = criterion(outputs, labels)\n",
    "        loss.backward()\n",
    "        optimizer.step()\n",
    "\n",
    "        total_loss += loss.item()\n",
    "\n",
    "    print(f\"Epoch [{epoch+1}/{num_epochs}], Loss: {total_loss:.4f}\")"
   ]
  }
 ],
 "metadata": {
  "kernelspec": {
   "display_name": "Python 3",
   "language": "python",
   "name": "python3"
  },
  "language_info": {
   "name": "python",
   "version": "3.9.6"
  }
 },
 "nbformat": 4,
 "nbformat_minor": 2
}
